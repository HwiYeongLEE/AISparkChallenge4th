{
 "cells": [
  {
   "cell_type": "code",
   "execution_count": 1,
   "id": "79bbdbb0",
   "metadata": {},
   "outputs": [],
   "source": [
    "import pandas as pd\n",
    "import numpy as np\n",
    "import matplotlib.pyplot as plt"
   ]
  },
  {
   "cell_type": "code",
   "execution_count": 2,
   "id": "492749e5",
   "metadata": {},
   "outputs": [],
   "source": [
    "train = pd.read_csv('../data/train_data.csv')\n",
    "test = pd.read_csv('../data/test_data.csv')\n",
    "data = pd.concat([train, test])"
   ]
  },
  {
   "cell_type": "code",
   "execution_count": 3,
   "id": "ba7af045",
   "metadata": {},
   "outputs": [
    {
     "data": {
      "text/html": [
       "<div>\n",
       "<style scoped>\n",
       "    .dataframe tbody tr th:only-of-type {\n",
       "        vertical-align: middle;\n",
       "    }\n",
       "\n",
       "    .dataframe tbody tr th {\n",
       "        vertical-align: top;\n",
       "    }\n",
       "\n",
       "    .dataframe thead th {\n",
       "        text-align: right;\n",
       "    }\n",
       "</style>\n",
       "<table border=\"1\" class=\"dataframe\">\n",
       "  <thead>\n",
       "    <tr style=\"text-align: right;\">\n",
       "      <th></th>\n",
       "      <th>air_inflow</th>\n",
       "      <th>air_end_temp</th>\n",
       "      <th>out_pressure</th>\n",
       "      <th>motor_current</th>\n",
       "      <th>motor_rpm</th>\n",
       "      <th>motor_temp</th>\n",
       "      <th>motor_vibe</th>\n",
       "      <th>type</th>\n",
       "    </tr>\n",
       "  </thead>\n",
       "  <tbody>\n",
       "    <tr>\n",
       "      <th>0</th>\n",
       "      <td>1.59</td>\n",
       "      <td>41.00</td>\n",
       "      <td>0.7</td>\n",
       "      <td>20.53</td>\n",
       "      <td>1680.0</td>\n",
       "      <td>58.67</td>\n",
       "      <td>2.93</td>\n",
       "      <td>0</td>\n",
       "    </tr>\n",
       "    <tr>\n",
       "      <th>1</th>\n",
       "      <td>2.97</td>\n",
       "      <td>59.28</td>\n",
       "      <td>0.7</td>\n",
       "      <td>38.40</td>\n",
       "      <td>3142.0</td>\n",
       "      <td>74.91</td>\n",
       "      <td>3.75</td>\n",
       "      <td>0</td>\n",
       "    </tr>\n",
       "    <tr>\n",
       "      <th>2</th>\n",
       "      <td>1.91</td>\n",
       "      <td>45.29</td>\n",
       "      <td>0.7</td>\n",
       "      <td>24.73</td>\n",
       "      <td>2023.0</td>\n",
       "      <td>62.48</td>\n",
       "      <td>3.12</td>\n",
       "      <td>0</td>\n",
       "    </tr>\n",
       "    <tr>\n",
       "      <th>3</th>\n",
       "      <td>2.37</td>\n",
       "      <td>51.33</td>\n",
       "      <td>0.7</td>\n",
       "      <td>30.63</td>\n",
       "      <td>2506.0</td>\n",
       "      <td>67.84</td>\n",
       "      <td>3.39</td>\n",
       "      <td>0</td>\n",
       "    </tr>\n",
       "    <tr>\n",
       "      <th>4</th>\n",
       "      <td>1.90</td>\n",
       "      <td>45.21</td>\n",
       "      <td>0.7</td>\n",
       "      <td>24.65</td>\n",
       "      <td>2017.0</td>\n",
       "      <td>62.41</td>\n",
       "      <td>3.12</td>\n",
       "      <td>0</td>\n",
       "    </tr>\n",
       "    <tr>\n",
       "      <th>...</th>\n",
       "      <td>...</td>\n",
       "      <td>...</td>\n",
       "      <td>...</td>\n",
       "      <td>...</td>\n",
       "      <td>...</td>\n",
       "      <td>...</td>\n",
       "      <td>...</td>\n",
       "      <td>...</td>\n",
       "    </tr>\n",
       "    <tr>\n",
       "      <th>7384</th>\n",
       "      <td>2.12</td>\n",
       "      <td>48.08</td>\n",
       "      <td>0.7</td>\n",
       "      <td>27.45</td>\n",
       "      <td>2246.0</td>\n",
       "      <td>64.96</td>\n",
       "      <td>3.25</td>\n",
       "      <td>7</td>\n",
       "    </tr>\n",
       "    <tr>\n",
       "      <th>7385</th>\n",
       "      <td>1.48</td>\n",
       "      <td>39.63</td>\n",
       "      <td>0.7</td>\n",
       "      <td>19.19</td>\n",
       "      <td>1570.0</td>\n",
       "      <td>57.44</td>\n",
       "      <td>2.87</td>\n",
       "      <td>7</td>\n",
       "    </tr>\n",
       "    <tr>\n",
       "      <th>7386</th>\n",
       "      <td>1.56</td>\n",
       "      <td>40.61</td>\n",
       "      <td>0.7</td>\n",
       "      <td>20.15</td>\n",
       "      <td>1649.0</td>\n",
       "      <td>58.32</td>\n",
       "      <td>2.92</td>\n",
       "      <td>7</td>\n",
       "    </tr>\n",
       "    <tr>\n",
       "      <th>7387</th>\n",
       "      <td>1.59</td>\n",
       "      <td>40.99</td>\n",
       "      <td>0.7</td>\n",
       "      <td>20.52</td>\n",
       "      <td>1679.0</td>\n",
       "      <td>58.66</td>\n",
       "      <td>2.93</td>\n",
       "      <td>7</td>\n",
       "    </tr>\n",
       "    <tr>\n",
       "      <th>7388</th>\n",
       "      <td>1.70</td>\n",
       "      <td>42.51</td>\n",
       "      <td>0.7</td>\n",
       "      <td>22.01</td>\n",
       "      <td>1801.0</td>\n",
       "      <td>60.01</td>\n",
       "      <td>3.00</td>\n",
       "      <td>7</td>\n",
       "    </tr>\n",
       "  </tbody>\n",
       "</table>\n",
       "<p>9852 rows × 8 columns</p>\n",
       "</div>"
      ],
      "text/plain": [
       "      air_inflow  air_end_temp  out_pressure  motor_current  motor_rpm   \n",
       "0           1.59         41.00           0.7          20.53     1680.0  \\\n",
       "1           2.97         59.28           0.7          38.40     3142.0   \n",
       "2           1.91         45.29           0.7          24.73     2023.0   \n",
       "3           2.37         51.33           0.7          30.63     2506.0   \n",
       "4           1.90         45.21           0.7          24.65     2017.0   \n",
       "...          ...           ...           ...            ...        ...   \n",
       "7384        2.12         48.08           0.7          27.45     2246.0   \n",
       "7385        1.48         39.63           0.7          19.19     1570.0   \n",
       "7386        1.56         40.61           0.7          20.15     1649.0   \n",
       "7387        1.59         40.99           0.7          20.52     1679.0   \n",
       "7388        1.70         42.51           0.7          22.01     1801.0   \n",
       "\n",
       "      motor_temp  motor_vibe  type  \n",
       "0          58.67        2.93     0  \n",
       "1          74.91        3.75     0  \n",
       "2          62.48        3.12     0  \n",
       "3          67.84        3.39     0  \n",
       "4          62.41        3.12     0  \n",
       "...          ...         ...   ...  \n",
       "7384       64.96        3.25     7  \n",
       "7385       57.44        2.87     7  \n",
       "7386       58.32        2.92     7  \n",
       "7387       58.66        2.93     7  \n",
       "7388       60.01        3.00     7  \n",
       "\n",
       "[9852 rows x 8 columns]"
      ]
     },
     "execution_count": 3,
     "metadata": {},
     "output_type": "execute_result"
    }
   ],
   "source": [
    "data"
   ]
  },
  {
   "cell_type": "code",
   "execution_count": 4,
   "id": "b3242e5a",
   "metadata": {},
   "outputs": [],
   "source": [
    "type = data['type']"
   ]
  },
  {
   "cell_type": "code",
   "execution_count": 5,
   "id": "66ccdc8a",
   "metadata": {},
   "outputs": [],
   "source": [
    "data.drop(['type'], axis=1, inplace=True)"
   ]
  },
  {
   "cell_type": "code",
   "execution_count": 6,
   "id": "fc36e07f",
   "metadata": {},
   "outputs": [],
   "source": [
    "from sklearn.preprocessing import MinMaxScaler\n",
    "from minisom import MiniSom"
   ]
  },
  {
   "cell_type": "code",
   "execution_count": 7,
   "id": "43cf3fe0",
   "metadata": {},
   "outputs": [
    {
     "data": {
      "text/html": [
       "<div>\n",
       "<style scoped>\n",
       "    .dataframe tbody tr th:only-of-type {\n",
       "        vertical-align: middle;\n",
       "    }\n",
       "\n",
       "    .dataframe tbody tr th {\n",
       "        vertical-align: top;\n",
       "    }\n",
       "\n",
       "    .dataframe thead th {\n",
       "        text-align: right;\n",
       "    }\n",
       "</style>\n",
       "<table border=\"1\" class=\"dataframe\">\n",
       "  <thead>\n",
       "    <tr style=\"text-align: right;\">\n",
       "      <th></th>\n",
       "      <th>0</th>\n",
       "      <th>1</th>\n",
       "      <th>2</th>\n",
       "      <th>3</th>\n",
       "      <th>4</th>\n",
       "      <th>5</th>\n",
       "      <th>6</th>\n",
       "    </tr>\n",
       "  </thead>\n",
       "  <tbody>\n",
       "    <tr>\n",
       "      <th>0</th>\n",
       "      <td>0.213198</td>\n",
       "      <td>0.267681</td>\n",
       "      <td>1.0</td>\n",
       "      <td>0.221235</td>\n",
       "      <td>0.203046</td>\n",
       "      <td>0.259444</td>\n",
       "      <td>0.048241</td>\n",
       "    </tr>\n",
       "    <tr>\n",
       "      <th>1</th>\n",
       "      <td>0.446701</td>\n",
       "      <td>0.813190</td>\n",
       "      <td>1.0</td>\n",
       "      <td>0.481503</td>\n",
       "      <td>0.821489</td>\n",
       "      <td>0.766469</td>\n",
       "      <td>0.089447</td>\n",
       "    </tr>\n",
       "    <tr>\n",
       "      <th>2</th>\n",
       "      <td>0.267343</td>\n",
       "      <td>0.395703</td>\n",
       "      <td>1.0</td>\n",
       "      <td>0.282406</td>\n",
       "      <td>0.348139</td>\n",
       "      <td>0.378395</td>\n",
       "      <td>0.057789</td>\n",
       "    </tr>\n",
       "    <tr>\n",
       "      <th>3</th>\n",
       "      <td>0.345178</td>\n",
       "      <td>0.575947</td>\n",
       "      <td>1.0</td>\n",
       "      <td>0.368337</td>\n",
       "      <td>0.552453</td>\n",
       "      <td>0.545738</td>\n",
       "      <td>0.071357</td>\n",
       "    </tr>\n",
       "    <tr>\n",
       "      <th>4</th>\n",
       "      <td>0.265651</td>\n",
       "      <td>0.393315</td>\n",
       "      <td>1.0</td>\n",
       "      <td>0.281241</td>\n",
       "      <td>0.345601</td>\n",
       "      <td>0.376210</td>\n",
       "      <td>0.057789</td>\n",
       "    </tr>\n",
       "    <tr>\n",
       "      <th>...</th>\n",
       "      <td>...</td>\n",
       "      <td>...</td>\n",
       "      <td>...</td>\n",
       "      <td>...</td>\n",
       "      <td>...</td>\n",
       "      <td>...</td>\n",
       "      <td>...</td>\n",
       "    </tr>\n",
       "    <tr>\n",
       "      <th>9847</th>\n",
       "      <td>0.302876</td>\n",
       "      <td>0.478962</td>\n",
       "      <td>1.0</td>\n",
       "      <td>0.322022</td>\n",
       "      <td>0.442470</td>\n",
       "      <td>0.455823</td>\n",
       "      <td>0.064322</td>\n",
       "    </tr>\n",
       "    <tr>\n",
       "      <th>9848</th>\n",
       "      <td>0.194585</td>\n",
       "      <td>0.226798</td>\n",
       "      <td>1.0</td>\n",
       "      <td>0.201719</td>\n",
       "      <td>0.156514</td>\n",
       "      <td>0.221043</td>\n",
       "      <td>0.045226</td>\n",
       "    </tr>\n",
       "    <tr>\n",
       "      <th>9849</th>\n",
       "      <td>0.208122</td>\n",
       "      <td>0.256043</td>\n",
       "      <td>1.0</td>\n",
       "      <td>0.215701</td>\n",
       "      <td>0.189932</td>\n",
       "      <td>0.248517</td>\n",
       "      <td>0.047739</td>\n",
       "    </tr>\n",
       "    <tr>\n",
       "      <th>9850</th>\n",
       "      <td>0.213198</td>\n",
       "      <td>0.267383</td>\n",
       "      <td>1.0</td>\n",
       "      <td>0.221089</td>\n",
       "      <td>0.202623</td>\n",
       "      <td>0.259132</td>\n",
       "      <td>0.048241</td>\n",
       "    </tr>\n",
       "    <tr>\n",
       "      <th>9851</th>\n",
       "      <td>0.231810</td>\n",
       "      <td>0.312742</td>\n",
       "      <td>1.0</td>\n",
       "      <td>0.242791</td>\n",
       "      <td>0.254230</td>\n",
       "      <td>0.301280</td>\n",
       "      <td>0.051759</td>\n",
       "    </tr>\n",
       "  </tbody>\n",
       "</table>\n",
       "<p>9852 rows × 7 columns</p>\n",
       "</div>"
      ],
      "text/plain": [
       "             0         1    2         3         4         5         6\n",
       "0     0.213198  0.267681  1.0  0.221235  0.203046  0.259444  0.048241\n",
       "1     0.446701  0.813190  1.0  0.481503  0.821489  0.766469  0.089447\n",
       "2     0.267343  0.395703  1.0  0.282406  0.348139  0.378395  0.057789\n",
       "3     0.345178  0.575947  1.0  0.368337  0.552453  0.545738  0.071357\n",
       "4     0.265651  0.393315  1.0  0.281241  0.345601  0.376210  0.057789\n",
       "...        ...       ...  ...       ...       ...       ...       ...\n",
       "9847  0.302876  0.478962  1.0  0.322022  0.442470  0.455823  0.064322\n",
       "9848  0.194585  0.226798  1.0  0.201719  0.156514  0.221043  0.045226\n",
       "9849  0.208122  0.256043  1.0  0.215701  0.189932  0.248517  0.047739\n",
       "9850  0.213198  0.267383  1.0  0.221089  0.202623  0.259132  0.048241\n",
       "9851  0.231810  0.312742  1.0  0.242791  0.254230  0.301280  0.051759\n",
       "\n",
       "[9852 rows x 7 columns]"
      ]
     },
     "execution_count": 7,
     "metadata": {},
     "output_type": "execute_result"
    }
   ],
   "source": [
    "sc = MinMaxScaler(feature_range = (0,1))\n",
    "som_train_data = sc.fit_transform(data)\n",
    "pd.DataFrame(som_train_data)"
   ]
  },
  {
   "cell_type": "code",
   "execution_count": 8,
   "id": "6023acbe",
   "metadata": {},
   "outputs": [
    {
     "name": "stderr",
     "output_type": "stream",
     "text": [
      "c:\\Users\\Root\\dacon\\AiSparkChallenge4th-3\\.conda\\lib\\site-packages\\minisom.py:162: UserWarning: Warning: sigma is too high for the dimension of the map.\n",
      "  warn('Warning: sigma is too high for the dimension of the map.')\n"
     ]
    }
   ],
   "source": [
    "som = MiniSom(2, 1, input_len=7, sigma=1, neighborhood_function='gaussian', learning_rate=0.01, random_seed=42)\n",
    "som.random_weights_init(som_train_data)"
   ]
  },
  {
   "cell_type": "code",
   "execution_count": 9,
   "id": "01ee8cde",
   "metadata": {},
   "outputs": [
    {
     "name": "stdout",
     "output_type": "stream",
     "text": [
      " [ 1000000 / 1000000 ] 100% - 0:00:00 left \n",
      " quantization error: 0.2894107153902387\n"
     ]
    }
   ],
   "source": [
    "som.train(som_train_data, 1000000, random_order=True, verbose=True)"
   ]
  },
  {
   "cell_type": "code",
   "execution_count": 10,
   "id": "bc8ddb3c",
   "metadata": {},
   "outputs": [],
   "source": [
    "outlier_percentage = 0.07\n",
    "quantization_errors = np.linalg.norm(som.quantization(som_train_data) - som_train_data, axis=1)\n",
    "error_threshold = np.percentile(quantization_errors, \n",
    "                               100*(1-outlier_percentage)+0.01)\n",
    "is_anomaly = quantization_errors > error_threshold"
   ]
  },
  {
   "cell_type": "code",
   "execution_count": 11,
   "id": "949d0ddf",
   "metadata": {},
   "outputs": [
    {
     "data": {
      "text/plain": [
       "Text(0, 0.5, 'frequency')"
      ]
     },
     "execution_count": 11,
     "metadata": {},
     "output_type": "execute_result"
    },
    {
     "data": {
      "image/png": "[encoded data removed]",
      "text/plain": [
       "<Figure size 640x480 with 1 Axes>"
      ]
     },
     "metadata": {},
     "output_type": "display_data"
    }
   ],
   "source": [
    "plt.hist(quantization_errors, bins=30)\n",
    "plt.axvline(error_threshold, color='k', linestyle='--')\n",
    "plt.xlabel('error')\n",
    "plt.ylabel('frequency')"
   ]
  },
  {
   "cell_type": "code",
   "execution_count": 12,
   "id": "f600e769",
   "metadata": {},
   "outputs": [],
   "source": [
    "label = []\n",
    "for i in range(len(is_anomaly)):\n",
    "    if is_anomaly[i] == True:\n",
    "        label.append(1)\n",
    "    else:\n",
    "        label.append(0)"
   ]
  },
  {
   "cell_type": "code",
   "execution_count": 22,
   "id": "20ca1d2d",
   "metadata": {},
   "outputs": [],
   "source": [
    "sub = pd.read_csv(\"../data/answer_sample.csv\")\n",
    "sub['label'] = label[len(train):]"
   ]
  },
  {
   "cell_type": "code",
   "execution_count": 25,
   "id": "5a6af362",
   "metadata": {},
   "outputs": [],
   "source": [
    "sub.to_csv(\"../results/som_submission.csv\", index=False)"
   ]
  },
  {
   "cell_type": "code",
   "execution_count": 16,
   "id": "3869ae08",
   "metadata": {},
   "outputs": [],
   "source": [
    "from sklearn.metrics import precision_score, recall_score, f1_score"
   ]
  },
  {
   "cell_type": "code",
   "execution_count": 49,
   "id": "88dcfd4c",
   "metadata": {},
   "outputs": [],
   "source": [
    "precision = precision_score(y, label, average='binary')\n",
    "recall = recall_score(y, label, average='binary')\n",
    "f1 = f1_score(y, label, average='binary')"
   ]
  },
  {
   "cell_type": "code",
   "execution_count": 50,
   "id": "49df5d1b",
   "metadata": {},
   "outputs": [
    {
     "data": {
      "text/plain": [
       "(0.33714285714285713, 0.23983739837398374, 0.28028503562945367)"
      ]
     },
     "execution_count": 50,
     "metadata": {},
     "output_type": "execute_result"
    }
   ],
   "source": [
    "precision, recall, f1"
   ]
  },
  {
   "cell_type": "code",
   "execution_count": 20,
   "id": "ff750fda",
   "metadata": {},
   "outputs": [],
   "source": [
    "from sklearn.metrics import confusion_matrix"
   ]
  },
  {
   "cell_type": "code",
   "execution_count": 52,
   "id": "a0c60b0f",
   "metadata": {},
   "outputs": [],
   "source": [
    "tn, fp, fn, tp = confusion_matrix(y, label).ravel()"
   ]
  },
  {
   "cell_type": "code",
   "execution_count": 53,
   "id": "11f58476",
   "metadata": {},
   "outputs": [
    {
     "data": {
      "text/plain": [
       "(284083, 232, 374, 118)"
      ]
     },
     "execution_count": 53,
     "metadata": {},
     "output_type": "execute_result"
    }
   ],
   "source": [
    "tn, fp, fn, tp"
   ]
  },
  {
   "cell_type": "markdown",
   "id": "09525051",
   "metadata": {},
   "source": [
    "**Isolation Forest**"
   ]
  },
  {
   "cell_type": "code",
   "execution_count": 37,
   "id": "c05651b9",
   "metadata": {},
   "outputs": [],
   "source": [
    "from sklearn.ensemble import IsolationForest"
   ]
  },
  {
   "cell_type": "code",
   "execution_count": 38,
   "id": "11aa13ce",
   "metadata": {},
   "outputs": [],
   "source": [
    "train = som_train_data[:200000]\n",
    "test = som_train_data[200000:]"
   ]
  },
  {
   "cell_type": "code",
   "execution_count": 66,
   "id": "4fb7078c",
   "metadata": {},
   "outputs": [],
   "source": [
    "train_y = data['Class'][:200000]\n",
    "test_y = data['Class'][200000:]"
   ]
  },
  {
   "cell_type": "code",
   "execution_count": 39,
   "id": "2752a820",
   "metadata": {},
   "outputs": [],
   "source": [
    "n_estimators = 400\n",
    "clf = IsolationForest(random_state=0, n_estimators=n_estimators).fit(train)"
   ]
  },
  {
   "cell_type": "code",
   "execution_count": 40,
   "id": "eea518bd",
   "metadata": {},
   "outputs": [],
   "source": [
    "result = clf.predict(test)"
   ]
  },
  {
   "cell_type": "code",
   "execution_count": 41,
   "id": "55392834",
   "metadata": {},
   "outputs": [],
   "source": [
    "result = pd.DataFrame(result)\n",
    "result.replace(to_replace=1, value=0, inplace=True)\n",
    "result.replace(to_replace=-1, value=1, inplace=True)"
   ]
  },
  {
   "cell_type": "code",
   "execution_count": 43,
   "id": "dd947516",
   "metadata": {},
   "outputs": [],
   "source": [
    "precision = precision_score(test_y, result, average='binary')\n",
    "recall = recall_score(test_y, result, average='binary')\n",
    "f1 = f1_score(test_y, result, average='binary')"
   ]
  },
  {
   "cell_type": "code",
   "execution_count": 44,
   "id": "7bb038fe",
   "metadata": {},
   "outputs": [
    {
     "data": {
      "text/plain": [
       "(0.025757575757575757, 0.794392523364486, 0.049897270325799825)"
      ]
     },
     "execution_count": 44,
     "metadata": {},
     "output_type": "execute_result"
    }
   ],
   "source": [
    "precision, recall, f1"
   ]
  },
  {
   "cell_type": "code",
   "execution_count": 45,
   "id": "dd6e3cc5",
   "metadata": {},
   "outputs": [],
   "source": [
    "tn, fp, fn, tp = confusion_matrix(y1, result).ravel()"
   ]
  },
  {
   "cell_type": "code",
   "execution_count": 46,
   "id": "5e654227",
   "metadata": {},
   "outputs": [
    {
     "data": {
      "text/plain": [
       "(81485, 3215, 22, 85)"
      ]
     },
     "execution_count": 46,
     "metadata": {},
     "output_type": "execute_result"
    }
   ],
   "source": [
    "tn, fp, fn, tp"
   ]
  },
  {
   "cell_type": "markdown",
   "id": "d986a87e",
   "metadata": {},
   "source": [
    "**LOF**"
   ]
  },
  {
   "cell_type": "code",
   "execution_count": 23,
   "id": "ce7a0d3d",
   "metadata": {},
   "outputs": [],
   "source": [
    "from sklearn.neighbors import LocalOutlierFactor"
   ]
  },
  {
   "cell_type": "code",
   "execution_count": 24,
   "id": "3ac659aa",
   "metadata": {},
   "outputs": [],
   "source": [
    "clf = LocalOutlierFactor(n_neighbors=100)"
   ]
  },
  {
   "cell_type": "code",
   "execution_count": 25,
   "id": "9a302ea7",
   "metadata": {},
   "outputs": [],
   "source": [
    "result = clf.fit_predict(som_train_data)\n",
    "result = pd.DataFrame(result)\n",
    "result.replace(to_replace=1, value=0, inplace=True)\n",
    "result.replace(to_replace=-1, value=1, inplace=True)"
   ]
  },
  {
   "cell_type": "code",
   "execution_count": 26,
   "id": "143c3329",
   "metadata": {},
   "outputs": [],
   "source": [
    "precision = precision_score(y, result, average='binary')\n",
    "recall = recall_score(y, result, average='binary')\n",
    "f1 = f1_score(y, result, average='binary')"
   ]
  },
  {
   "cell_type": "code",
   "execution_count": 27,
   "id": "89327121",
   "metadata": {},
   "outputs": [
    {
     "data": {
      "text/plain": [
       "(0.0032282859338970023, 0.12804878048780488, 0.006297795771479982)"
      ]
     },
     "execution_count": 27,
     "metadata": {},
     "output_type": "execute_result"
    }
   ],
   "source": [
    "precision, recall, f1"
   ]
  },
  {
   "cell_type": "code",
   "execution_count": 28,
   "id": "5a994a0a",
   "metadata": {},
   "outputs": [],
   "source": [
    "tn, fp, fn, tp = confusion_matrix(y, result).ravel()"
   ]
  },
  {
   "cell_type": "code",
   "execution_count": 29,
   "id": "93500ffb",
   "metadata": {},
   "outputs": [
    {
     "data": {
      "text/plain": [
       "(264863, 19452, 429, 63)"
      ]
     },
     "execution_count": 29,
     "metadata": {},
     "output_type": "execute_result"
    }
   ],
   "source": [
    "tn, fp, fn, tp"
   ]
  },
  {
   "cell_type": "markdown",
   "id": "c9fcd625",
   "metadata": {},
   "source": [
    "**One Class SVM**"
   ]
  },
  {
   "cell_type": "code",
   "execution_count": 54,
   "id": "a6426d13",
   "metadata": {},
   "outputs": [],
   "source": [
    "from sklearn.svm import OneClassSVM"
   ]
  },
  {
   "cell_type": "code",
   "execution_count": 55,
   "id": "eb4cddda",
   "metadata": {},
   "outputs": [
    {
     "name": "stdout",
     "output_type": "stream",
     "text": [
      "[LibSVM]"
     ]
    }
   ],
   "source": [
    "clf = OneClassSVM(kernel='rbf', gamma='auto', verbose=True).fit(train)"
   ]
  },
  {
   "cell_type": "code",
   "execution_count": 56,
   "id": "5fd4f74b",
   "metadata": {},
   "outputs": [],
   "source": [
    "result = clf.predict(test)\n",
    "result = pd.DataFrame(result)\n",
    "result.replace(to_replace=1, value=0, inplace=True)\n",
    "result.replace(to_replace=-1, value=1, inplace=True)"
   ]
  },
  {
   "cell_type": "code",
   "execution_count": 57,
   "id": "eac6846c",
   "metadata": {},
   "outputs": [],
   "source": [
    "precision = precision_score(test_y, result, average='binary')\n",
    "recall = recall_score(test_y, result, average='binary')\n",
    "f1 = f1_score(test_y, result, average='binary')"
   ]
  },
  {
   "cell_type": "code",
   "execution_count": 58,
   "id": "c2f423c4",
   "metadata": {},
   "outputs": [
    {
     "data": {
      "text/plain": [
       "(0.0026712969146520634, 0.9345794392523364, 0.005327366682648766)"
      ]
     },
     "execution_count": 58,
     "metadata": {},
     "output_type": "execute_result"
    }
   ],
   "source": [
    "precision, recall, f1"
   ]
  },
  {
   "cell_type": "code",
   "execution_count": 60,
   "id": "9b2f6736",
   "metadata": {},
   "outputs": [],
   "source": [
    "tn, fp, fn, tp = confusion_matrix(test_y, result).ravel()"
   ]
  },
  {
   "cell_type": "code",
   "execution_count": 61,
   "id": "0b004200",
   "metadata": {},
   "outputs": [
    {
     "data": {
      "text/plain": [
       "(47365, 37335, 7, 100)"
      ]
     },
     "execution_count": 61,
     "metadata": {},
     "output_type": "execute_result"
    }
   ],
   "source": [
    "tn, fp, fn, tp"
   ]
  },
  {
   "cell_type": "markdown",
   "id": "e1908832",
   "metadata": {},
   "source": [
    "**Gradient Boosting**"
   ]
  },
  {
   "cell_type": "code",
   "execution_count": 69,
   "id": "61a6c00e",
   "metadata": {},
   "outputs": [],
   "source": [
    "from sklearn.ensemble import GradientBoostingClassifier\n",
    "clf = GradientBoostingClassifier(n_estimators=100, learning_rate=1.0, max_depth=1, random_state=0).fit(train, train_y)"
   ]
  },
  {
   "cell_type": "code",
   "execution_count": 70,
   "id": "eb1c4808",
   "metadata": {},
   "outputs": [],
   "source": [
    "result = clf.predict(test)"
   ]
  },
  {
   "cell_type": "code",
   "execution_count": 73,
   "id": "3b93d843",
   "metadata": {},
   "outputs": [],
   "source": [
    "result = pd.DataFrame(result)"
   ]
  },
  {
   "cell_type": "code",
   "execution_count": 74,
   "id": "b1676501",
   "metadata": {},
   "outputs": [
    {
     "data": {
      "text/plain": [
       "(0.6835443037974683, 0.5046728971962616, 0.5806451612903225)"
      ]
     },
     "execution_count": 74,
     "metadata": {},
     "output_type": "execute_result"
    }
   ],
   "source": [
    "precision = precision_score(test_y, result, average='binary')\n",
    "recall = recall_score(test_y, result, average='binary')\n",
    "f1 = f1_score(test_y, result, average='binary')\n",
    "precision, recall, f1"
   ]
  },
  {
   "cell_type": "markdown",
   "id": "0ed39d98",
   "metadata": {},
   "source": [
    "**Random Forest**"
   ]
  },
  {
   "cell_type": "code",
   "execution_count": 75,
   "id": "b810bb5d",
   "metadata": {},
   "outputs": [
    {
     "data": {
      "text/plain": [
       "RandomForestClassifier(max_depth=2, random_state=0)"
      ]
     },
     "execution_count": 75,
     "metadata": {},
     "output_type": "execute_result"
    }
   ],
   "source": [
    "from sklearn.ensemble import RandomForestClassifier\n",
    "clf = RandomForestClassifier(max_depth=2, random_state=0)\n",
    "clf.fit(train, train_y)"
   ]
  },
  {
   "cell_type": "code",
   "execution_count": 76,
   "id": "e49f63f6",
   "metadata": {},
   "outputs": [],
   "source": [
    "result = clf.predict(test)"
   ]
  },
  {
   "cell_type": "code",
   "execution_count": 78,
   "id": "e4360c2b",
   "metadata": {},
   "outputs": [],
   "source": [
    "result = pd.DataFrame(result)"
   ]
  },
  {
   "cell_type": "code",
   "execution_count": 79,
   "id": "5b02d913",
   "metadata": {},
   "outputs": [
    {
     "data": {
      "text/plain": [
       "(0.9761904761904762, 0.38317757009345793, 0.5503355704697986)"
      ]
     },
     "execution_count": 79,
     "metadata": {},
     "output_type": "execute_result"
    }
   ],
   "source": [
    "precision = precision_score(test_y, result, average='binary')\n",
    "recall = recall_score(test_y, result, average='binary')\n",
    "f1 = f1_score(test_y, result, average='binary')\n",
    "precision, recall, f1"
   ]
  },
  {
   "cell_type": "code",
   "execution_count": null,
   "id": "b5524806",
   "metadata": {},
   "outputs": [],
   "source": []
  }
 ],
 "metadata": {
  "kernelspec": {
   "display_name": "Python 3 (ipykernel)",
   "language": "python",
   "name": "python3"
  },
  "language_info": {
   "codemirror_mode": {
    "name": "ipython",
    "version": 3
   },
   "file_extension": ".py",
   "mimetype": "text/x-python",
   "name": "python",
   "nbconvert_exporter": "python",
   "pygments_lexer": "ipython3",
   "version": "3.10.10"
  }
 },
 "nbformat": 4,
 "nbformat_minor": 5
}
